{
 "cells": [
  {
   "cell_type": "code",
   "execution_count": 1,
   "id": "excellent-prize",
   "metadata": {},
   "outputs": [],
   "source": [
    "from jenga.tasks.openml import OpenMLRegressionTask, OpenMLBinaryClassificationTask, OpenMLMultiClassClassificationTask\n",
    "from jenga.corruptions.generic import MissingValues\n",
    "from jenga.evaluation.corruption_impact import CorruptionImpactEvaluator\n",
    "\n",
    "import numpy as np"
   ]
  },
  {
   "cell_type": "markdown",
   "id": "legislative-reception",
   "metadata": {},
   "source": [
    "## Some Helper Functions"
   ]
  },
  {
   "cell_type": "code",
   "execution_count": 2,
   "id": "modified-hollywood",
   "metadata": {},
   "outputs": [],
   "source": [
    "num_repetitions = 10\n",
    "\n",
    "def print_result(results, metric):\n",
    "    print(f\"\"\"\n",
    "Score ({metric}) on \n",
    "  clean data:     {results[0].baseline_score}\n",
    "  corrupted data: {np.mean(results[0].corrupted_scores)}\n",
    "\"\"\"\n",
    "    )"
   ]
  },
  {
   "cell_type": "markdown",
   "id": "careful-victoria",
   "metadata": {},
   "source": [
    "## Binary Classification"
   ]
  },
  {
   "cell_type": "code",
   "execution_count": 3,
   "id": "educational-shoot",
   "metadata": {},
   "outputs": [],
   "source": [
    "binary_task = OpenMLBinaryClassificationTask(1471)"
   ]
  },
  {
   "cell_type": "markdown",
   "id": "traditional-alert",
   "metadata": {},
   "source": [
    "The baseline model is internally fitted on the tasks train data."
   ]
  },
  {
   "cell_type": "code",
   "execution_count": 4,
   "id": "under-soviet",
   "metadata": {},
   "outputs": [
    {
     "name": "stdout",
     "output_type": "stream",
     "text": [
      "Baseline ROC/AUC score: 0.5981106576147899\n"
     ]
    }
   ],
   "source": [
    "binary_task_model = binary_task.fit_baseline_model()\n",
    "\n",
    "print(f\"Baseline ROC/AUC score: {binary_task.get_baseline_performance()}\")"
   ]
  },
  {
   "cell_type": "markdown",
   "id": "simplified-incident",
   "metadata": {},
   "source": [
    "Insert some corruptions and measure their impact."
   ]
  },
  {
   "cell_type": "code",
   "execution_count": 5,
   "id": "linear-marina",
   "metadata": {},
   "outputs": [
    {
     "name": "stdout",
     "output_type": "stream",
     "text": [
      "0/10 (0.049133000000000315)\n"
     ]
    }
   ],
   "source": [
    "binary_task_evaluator = CorruptionImpactEvaluator(binary_task)\n",
    "\n",
    "binary_task_corruption = MissingValues(column='V3', fraction=0.05, na_value=np.nan)\n",
    "binary_task_results = binary_task_evaluator.evaluate(binary_task_model, num_repetitions, binary_task_corruption)"
   ]
  },
  {
   "cell_type": "code",
   "execution_count": 6,
   "id": "arranged-devon",
   "metadata": {},
   "outputs": [
    {
     "name": "stdout",
     "output_type": "stream",
     "text": [
      "\n",
      "Score (ROC/AUC) on \n",
      "  clean data:     0.5981106576147899\n",
      "  corrupted data: 0.587232882770073\n",
      "\n"
     ]
    }
   ],
   "source": [
    "print_result(binary_task_results, \"ROC/AUC\")"
   ]
  },
  {
   "cell_type": "code",
   "execution_count": null,
   "id": "distributed-communist",
   "metadata": {},
   "outputs": [],
   "source": []
  },
  {
   "cell_type": "markdown",
   "id": "statutory-transcript",
   "metadata": {},
   "source": [
    "## Mutli-Class Classification"
   ]
  },
  {
   "cell_type": "code",
   "execution_count": 7,
   "id": "eleven-button",
   "metadata": {},
   "outputs": [],
   "source": [
    "multi_class_task = OpenMLMultiClassClassificationTask(26)"
   ]
  },
  {
   "cell_type": "markdown",
   "id": "historic-webcam",
   "metadata": {},
   "source": [
    "The baseline model is internally fitted on the tasks train data."
   ]
  },
  {
   "cell_type": "code",
   "execution_count": 8,
   "id": "floppy-stability",
   "metadata": {},
   "outputs": [
    {
     "name": "stderr",
     "output_type": "stream",
     "text": [
      "/usr/local/Caskroom/miniconda/base/envs/jenga/lib/python3.7/site-packages/sklearn/model_selection/_split.py:667: UserWarning: The least populated class in y has only 2 members, which is less than n_splits=5.\n",
      "  % (min_groups, self.n_splits)), UserWarning)\n"
     ]
    },
    {
     "name": "stdout",
     "output_type": "stream",
     "text": [
      "Baseline F1 score: 0.8200096363891715\n"
     ]
    }
   ],
   "source": [
    "multi_class_task_model = multi_class_task.fit_baseline_model()\n",
    "\n",
    "print(f\"Baseline F1 score: {multi_class_task.get_baseline_performance()}\")"
   ]
  },
  {
   "cell_type": "markdown",
   "id": "cooperative-omega",
   "metadata": {},
   "source": [
    "Insert some corruptions and measure their impact."
   ]
  },
  {
   "cell_type": "code",
   "execution_count": 9,
   "id": "rough-clearing",
   "metadata": {},
   "outputs": [
    {
     "name": "stdout",
     "output_type": "stream",
     "text": [
      "0/10 (0.02027999999999963)\n"
     ]
    }
   ],
   "source": [
    "multi_class_task_evaluator = CorruptionImpactEvaluator(multi_class_task)\n",
    "\n",
    "multi_class_task_corruption = MissingValues(column='parents', fraction=0.05, na_value=np.nan)\n",
    "multi_class_task_results = multi_class_task_evaluator.evaluate(multi_class_task_model, num_repetitions, multi_class_task_corruption)"
   ]
  },
  {
   "cell_type": "code",
   "execution_count": 10,
   "id": "corporate-alexander",
   "metadata": {},
   "outputs": [
    {
     "name": "stdout",
     "output_type": "stream",
     "text": [
      "\n",
      "Score (F1) on \n",
      "  clean data:     0.8200096363891715\n",
      "  corrupted data: 0.8093230958314643\n",
      "\n"
     ]
    }
   ],
   "source": [
    "print_result(multi_class_task_results, \"F1\")"
   ]
  },
  {
   "cell_type": "code",
   "execution_count": null,
   "id": "metallic-daisy",
   "metadata": {},
   "outputs": [],
   "source": []
  },
  {
   "cell_type": "markdown",
   "id": "shared-bracket",
   "metadata": {},
   "source": [
    "## Regression"
   ]
  },
  {
   "cell_type": "code",
   "execution_count": 11,
   "id": "featured-artwork",
   "metadata": {},
   "outputs": [],
   "source": [
    "regression = OpenMLRegressionTask(572)"
   ]
  },
  {
   "cell_type": "markdown",
   "id": "worthy-robin",
   "metadata": {},
   "source": [
    "The baseline model is internally fitted on the tasks train data."
   ]
  },
  {
   "cell_type": "code",
   "execution_count": 12,
   "id": "prostate-indicator",
   "metadata": {},
   "outputs": [
    {
     "name": "stdout",
     "output_type": "stream",
     "text": [
      "Baseline MSE score: 0.0014478997907866505\n"
     ]
    }
   ],
   "source": [
    "regression_model = regression.fit_baseline_model()\n",
    "\n",
    "print(f\"Baseline MSE score: {regression.get_baseline_performance()}\")"
   ]
  },
  {
   "cell_type": "markdown",
   "id": "toxic-round",
   "metadata": {},
   "source": [
    "Insert some corruptions and measure their impact."
   ]
  },
  {
   "cell_type": "code",
   "execution_count": 13,
   "id": "employed-invite",
   "metadata": {},
   "outputs": [
    {
     "name": "stdout",
     "output_type": "stream",
     "text": [
      "0/10 (0.024993000000000265)\n"
     ]
    }
   ],
   "source": [
    "regression_evaluator = CorruptionImpactEvaluator(regression)\n",
    "\n",
    "regression_corruption = MissingValues(column='b2x', fraction=0.05, na_value=np.nan)\n",
    "regression_results = regression_evaluator.evaluate(regression_model, num_repetitions, regression_corruption)"
   ]
  },
  {
   "cell_type": "code",
   "execution_count": 14,
   "id": "handmade-constraint",
   "metadata": {},
   "outputs": [
    {
     "name": "stdout",
     "output_type": "stream",
     "text": [
      "\n",
      "Score (MSE) on \n",
      "  clean data:     0.0014478997907866505\n",
      "  corrupted data: 0.0014528864301698121\n",
      "\n"
     ]
    }
   ],
   "source": [
    "print_result(regression_results, \"MSE\")"
   ]
  }
 ],
 "metadata": {
  "kernelspec": {
   "display_name": "Python 3",
   "language": "python",
   "name": "python3"
  },
  "language_info": {
   "codemirror_mode": {
    "name": "ipython",
    "version": 3
   },
   "file_extension": ".py",
   "mimetype": "text/x-python",
   "name": "python",
   "nbconvert_exporter": "python",
   "pygments_lexer": "ipython3",
   "version": "3.7.9"
  }
 },
 "nbformat": 4,
 "nbformat_minor": 5
}
